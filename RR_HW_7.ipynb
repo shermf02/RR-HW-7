{
  "nbformat": 4,
  "nbformat_minor": 0,
  "metadata": {
    "colab": {
      "provenance": [],
      "authorship_tag": "ABX9TyN8tZWnCZyleteAQYVAWNPq",
      "include_colab_link": true
    },
    "kernelspec": {
      "name": "python3",
      "display_name": "Python 3"
    },
    "language_info": {
      "name": "python"
    }
  },
  "cells": [
    {
      "cell_type": "markdown",
      "metadata": {
        "id": "view-in-github",
        "colab_type": "text"
      },
      "source": [
        "<a href=\"https://colab.research.google.com/github/shermf02/RR-HW-7/blob/main/RR_HW_7.ipynb\" target=\"_parent\"><img src=\"https://colab.research.google.com/assets/colab-badge.svg\" alt=\"Open In Colab\"/></a>"
      ]
    },
    {
      "cell_type": "code",
      "execution_count": null,
      "metadata": {
        "id": "9zYXAhST6y2_"
      },
      "outputs": [],
      "source": [
        "10-30-2024\n",
        "x=2*5\n",
        "x=10"
      ]
    },
    {
      "cell_type": "markdown",
      "source": [
        "#Using repositories like GitHub to track changes and publish scripts actually helps with computational reproducibility. It shows the process of editing the script to correct issues that arose and therefore helps to answer questions that may come up in the future about why the problem was approached as it was. Sometimes when critiquing bioinformatics methods, people don’t have context of whether or not the approach they would rather see was actually feasible. Maybe the original author already tried this and an unexpected constraint comes up. Or, on the other hand, maybe someone didn’t understand a normalization or validation step and needed to look at a successful script to understand how to program something like that. Public data bases like github allow people to access and utilize scripts from public projects for their own purposes, so that workflows become conserved among certain types of data analysis. This can help with the reputation of a lab that produces a lot of trafficked packages or workflows, but also helps others produce research that otherwise would have been difficult to publish. It’s both a system of checks and balances and of communal support within the scientific community. It also allows journals and reviewers to look over the actual code that you’re submitting when you publish so that they can understand how rigorous it is and that it is what you say it is. All of these checks and balances ensure that the code is real and should be able to yield consistent results."
      ],
      "metadata": {
        "id": "efMDWiOZ7MYd"
      }
    },
    {
      "cell_type": "markdown",
      "source": [],
      "metadata": {
        "id": "w80NuIfw_nHb"
      }
    }
  ]
}